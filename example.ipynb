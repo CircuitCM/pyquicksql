{
 "cells": [
  {
   "cell_type": "markdown",
   "source": [
    "## Using PyQuickSQL Query Loader\n",
    "Before importing quicksql you can change the default cache, either in your system's environment variables or like below.\n",
    "The default is `tempfile.gettempdir()`."
   ],
   "metadata": {
    "collapsed": false
   },
   "id": "e7253264ef1bb456"
  },
  {
   "cell_type": "code",
   "execution_count": null,
   "outputs": [],
   "source": [
    "import os \n",
    "os.environ['QQ_CACHE_DIR']='path/to/cachedir'"
   ],
   "metadata": {
    "collapsed": false
   },
   "id": "initial_id"
  },
  {
   "cell_type": "markdown",
   "source": [
    "In your sql file you must specify the start of a query with `-- name: queryname`, and the parameters within the query using `:paramname`.\n",
    "You can optionally end a query with `-- :end`."
   ],
   "metadata": {
    "collapsed": false
   },
   "id": "319cb30acf77876e"
  },
  {
   "cell_type": "markdown",
   "source": [
    "Now we can import quicksql and load up some queries."
   ],
   "metadata": {
    "collapsed": false
   },
   "id": "63b1a913a06d4524"
  },
  {
   "cell_type": "code",
   "execution_count": 1,
   "outputs": [
    {
     "data": {
      "text/plain": "LoadSQL(C:\\Users\\charl\\PycharmProjects\\PyQuickSQL\\example.sql)\nQuery Name: contributing_employees, Params: num_orders, order_avg\nQuery Name: customer_orders, Params: product_id, sdate, edate"
     },
     "execution_count": 1,
     "metadata": {},
     "output_type": "execute_result"
    }
   ],
   "source": [
    "import quicksql, os\n",
    "queries = quicksql.LoadSQL(os.path.join(os.getcwd(),'example.sql'))\n",
    "queries"
   ],
   "metadata": {
    "collapsed": false,
    "ExecuteTime": {
     "end_time": "2023-11-04T18:31:18.141734Z",
     "start_time": "2023-11-04T18:31:18.121121700Z"
    }
   },
   "id": "295f8af182edea02"
  },
  {
   "cell_type": "code",
   "execution_count": 2,
   "outputs": [
    {
     "name": "stdout",
     "output_type": "stream",
     "text": [
      "Queries from:: C:\\Users\\charl\\PycharmProjects\\PyQuickSQL\\example.sql\n",
      "\n",
      "-- Query:: contributing_employees\n",
      "SELECT\n",
      "  EmployeeID,\n",
      "  COUNT(OrderID) AS NumberOfOrders,\n",
      "  AVG(TotalAmount) AS AverageOrderAmount\n",
      "FROM\n",
      "  Orders\n",
      "GROUP BY\n",
      "  EmployeeID\n",
      "HAVING\n",
      "  COUNT(OrderID) > :num_orders AND AVG(TotalAmount) > :order_avg\n",
      "ORDER BY\n",
      "  AverageOrderAmount DESC;\n",
      "/* This query selects the EmployeeID, counts the number of orders, and calculates the average order amount from an Orders table.\n",
      "   It groups the results by EmployeeID, and includes only those employees who have more than :num_orders orders and where the average order amount is greater than $:order_avg.\n",
      "   It orders the results by the average order amount in descending order. */\n",
      "\n",
      "-- Query:: customer_orders\n",
      "SELECT\n",
      "  c.CustomerName,\n",
      "  o.OrderDate,\n",
      "  o.Status,\n",
      "  (SELECT SUM(od.Quantity * od.UnitPrice) FROM OrderDetails od WHERE od.OrderID = o.OrderID) AS TotalValue\n",
      "FROM\n",
      "  Customers c\n",
      "INNER JOIN Orders o ON c.CustomerID = o.CustomerID\n",
      "WHERE\n",
      "  o.OrderDate BETWEEN :sdate AND :edate\n",
      "  AND EXISTS (SELECT 1 FROM OrderDetails od WHERE od.OrderID = o.OrderID AND od.ProductID = :product_id)\n",
      "ORDER BY\n",
      "  TotalValue DESC;\n"
     ]
    }
   ],
   "source": [
    "print(str(queries))"
   ],
   "metadata": {
    "collapsed": false,
    "ExecuteTime": {
     "end_time": "2023-11-04T18:31:22.443700600Z",
     "start_time": "2023-11-04T18:31:22.439688800Z"
    }
   },
   "id": "86f00e22f6f4a42"
  },
  {
   "cell_type": "markdown",
   "source": [
    "And lastly we can produce a query given the arguments specified above."
   ],
   "metadata": {
    "collapsed": false
   },
   "id": "66d35b796c954508"
  },
  {
   "cell_type": "code",
   "execution_count": 3,
   "outputs": [
    {
     "name": "stdout",
     "output_type": "stream",
     "text": [
      "SELECT\n",
      "  EmployeeID,\n",
      "  COUNT(OrderID) AS NumberOfOrders,\n",
      "  AVG(TotalAmount) AS AverageOrderAmount\n",
      "FROM\n",
      "  Orders\n",
      "GROUP BY\n",
      "  EmployeeID\n",
      "HAVING\n",
      "  COUNT(OrderID) > 5 AND AVG(TotalAmount) > 1000\n",
      "ORDER BY\n",
      "  AverageOrderAmount DESC;\n",
      "/* This query selects the EmployeeID, counts the number of orders, and calculates the average order amount from an Orders table.\n",
      "   It groups the results by EmployeeID, and includes only those employees who have more than 5 orders and where the average order amount is greater than $1000.\n",
      "   It orders the results by the average order amount in descending order. */\n",
      "\n",
      "\n",
      "Unused variables: something_not_a_param in query customer_orders\n",
      "SELECT\n",
      "  c.CustomerName,\n",
      "  o.OrderDate,\n",
      "  o.Status,\n",
      "  (SELECT SUM(od.Quantity * od.UnitPrice) FROM OrderDetails od WHERE od.OrderID = o.OrderID) AS TotalValue\n",
      "FROM\n",
      "  Customers c\n",
      "INNER JOIN Orders o ON c.CustomerID = o.CustomerID\n",
      "WHERE\n",
      "  o.OrderDate BETWEEN '1-10-2022' AND DATE'4-11-2023'\n",
      "  AND EXISTS (SELECT 1 FROM OrderDetails od WHERE od.OrderID = o.OrderID AND od.ProductID = 10)\n",
      "ORDER BY\n",
      "  TotalValue DESC;\n",
      "\n"
     ]
    },
    {
     "ename": "ValueError",
     "evalue": "Missing value for variable order_avg",
     "output_type": "error",
     "traceback": [
      "\u001B[1;31m---------------------------------------------------------------------------\u001B[0m",
      "\u001B[1;31mValueError\u001B[0m                                Traceback (most recent call last)",
      "Cell \u001B[1;32mIn[3], line 3\u001B[0m\n\u001B[0;32m      1\u001B[0m \u001B[38;5;28mprint\u001B[39m(queries\u001B[38;5;241m.\u001B[39mcontributing_employees(num_orders\u001B[38;5;241m=\u001B[39m\u001B[38;5;241m5\u001B[39m,order_avg\u001B[38;5;241m=\u001B[39m\u001B[38;5;241m1000\u001B[39m)\u001B[38;5;241m+\u001B[39m\u001B[38;5;124m'\u001B[39m\u001B[38;5;130;01m\\n\u001B[39;00m\u001B[38;5;130;01m\\n\u001B[39;00m\u001B[38;5;124m'\u001B[39m)\n\u001B[0;32m      2\u001B[0m \u001B[38;5;28mprint\u001B[39m(queries\u001B[38;5;241m.\u001B[39mcustomer_orders(product_id\u001B[38;5;241m=\u001B[39m\u001B[38;5;241m10\u001B[39m,sdate\u001B[38;5;241m=\u001B[39m\u001B[38;5;124m'\u001B[39m\u001B[38;5;124m1-10-2022\u001B[39m\u001B[38;5;124m'\u001B[39m,edate\u001B[38;5;241m=\u001B[39mquicksql\u001B[38;5;241m.\u001B[39mNoStr(\u001B[38;5;124m\"\u001B[39m\u001B[38;5;124mDATE\u001B[39m\u001B[38;5;124m'\u001B[39m\u001B[38;5;124m4-11-2023\u001B[39m\u001B[38;5;124m'\u001B[39m\u001B[38;5;124m\"\u001B[39m),something_not_a_param\u001B[38;5;241m=\u001B[39m\u001B[38;5;124m'\u001B[39m\u001B[38;5;124mtest\u001B[39m\u001B[38;5;124m'\u001B[39m)\u001B[38;5;241m+\u001B[39m\u001B[38;5;124m'\u001B[39m\u001B[38;5;130;01m\\n\u001B[39;00m\u001B[38;5;130;01m\\n\u001B[39;00m\u001B[38;5;124m'\u001B[39m)\n\u001B[1;32m----> 3\u001B[0m \u001B[38;5;28mprint\u001B[39m(\u001B[43mqueries\u001B[49m\u001B[38;5;241;43m.\u001B[39;49m\u001B[43mcontributing_employees\u001B[49m\u001B[43m(\u001B[49m\u001B[43mnum_orders\u001B[49m\u001B[38;5;241;43m=\u001B[39;49m\u001B[38;5;241;43m6\u001B[39;49m\u001B[43m)\u001B[49m\u001B[38;5;241m+\u001B[39m\u001B[38;5;124m'\u001B[39m\u001B[38;5;130;01m\\n\u001B[39;00m\u001B[38;5;130;01m\\n\u001B[39;00m\u001B[38;5;124m'\u001B[39m)\n",
      "File \u001B[1;32m~\\PycharmProjects\\PyQuickSQL\\quicksql\\_quicksql.py:119\u001B[0m, in \u001B[0;36mQuery.__call__\u001B[1;34m(self, **kwargs)\u001B[0m\n\u001B[0;32m    117\u001B[0m     rp\u001B[38;5;241m=\u001B[39mkwargs\u001B[38;5;241m.\u001B[39mget(v[\u001B[38;5;241m1\u001B[39m],\u001B[38;5;28;01mNone\u001B[39;00m)\n\u001B[0;32m    118\u001B[0m     \u001B[38;5;28;01mif\u001B[39;00m rp \u001B[38;5;129;01mis\u001B[39;00m \u001B[38;5;28;01mNone\u001B[39;00m:\n\u001B[1;32m--> 119\u001B[0m         \u001B[38;5;28;01mraise\u001B[39;00m \u001B[38;5;167;01mValueError\u001B[39;00m(\u001B[38;5;124mf\u001B[39m\u001B[38;5;124m\"\u001B[39m\u001B[38;5;124mMissing value for variable \u001B[39m\u001B[38;5;132;01m{\u001B[39;00mv[\u001B[38;5;241m1\u001B[39m]\u001B[38;5;132;01m}\u001B[39;00m\u001B[38;5;124m\"\u001B[39m)\n\u001B[0;32m    120\u001B[0m     oq\u001B[38;5;241m=\u001B[39moq\u001B[38;5;241m.\u001B[39mreplace(v[\u001B[38;5;241m0\u001B[39m], \u001B[38;5;28mstr\u001B[39m(rp) \u001B[38;5;28;01mif\u001B[39;00m \u001B[38;5;28mtype\u001B[39m(rp) \u001B[38;5;129;01mis\u001B[39;00m \u001B[38;5;129;01mnot\u001B[39;00m \u001B[38;5;28mstr\u001B[39m \u001B[38;5;28;01melse\u001B[39;00m \u001B[38;5;124mf\u001B[39m\u001B[38;5;124m\"\u001B[39m\u001B[38;5;124m'\u001B[39m\u001B[38;5;132;01m{\u001B[39;00mrp\u001B[38;5;132;01m}\u001B[39;00m\u001B[38;5;124m'\u001B[39m\u001B[38;5;124m\"\u001B[39m)\n\u001B[0;32m    121\u001B[0m chk_nkg\u001B[38;5;241m=\u001B[39mkwargs\u001B[38;5;241m.\u001B[39mkeys()\u001B[38;5;241m-\u001B[39m\u001B[38;5;28mself\u001B[39m\u001B[38;5;241m.\u001B[39mvars\n",
      "\u001B[1;31mValueError\u001B[0m: Missing value for variable order_avg"
     ]
    }
   ],
   "source": [
    "print(queries.contributing_employees(num_orders=5,order_avg=1000)+'\\n\\n')\n",
    "print(queries.customer_orders(product_id=10,sdate='1-10-2022',edate=quicksql.NoStr(\"DATE'4-11-2023'\"),something_not_a_param='test')+'\\n\\n')\n",
    "print(queries.contributing_employees(num_orders=6)+'\\n\\n')"
   ],
   "metadata": {
    "collapsed": false,
    "ExecuteTime": {
     "end_time": "2023-11-04T18:31:25.545784200Z",
     "start_time": "2023-11-04T18:31:25.345791700Z"
    }
   },
   "id": "fd89cefce0d7bcf2"
  },
  {
   "cell_type": "markdown",
   "source": [
    "We can see that the first one returns the query string, the second returns while printing a warning notifying of a variable not part of the query, and the third raises an error with a missing parameter.\n",
    "For now only unordered but not optional `**kwargs` are supported. If it is worth implementing `*args` in the future, it will be done.\n",
    "The parameters support any primitive type that can be converted into a string and collections of primitives eg tuples lists"
   ],
   "metadata": {
    "collapsed": false
   },
   "id": "9afdbfa69bca7db"
  },
  {
   "cell_type": "markdown",
   "source": [
    "## Using PyQuickSQL's Session Transient Asset Cache\n",
    "This is a decorator designed specifically\n",
    "This works like functools's cache but with some differences."
   ],
   "metadata": {
    "collapsed": false
   },
   "id": "8902c0dac3c410b2"
  }
 ],
 "metadata": {
  "kernelspec": {
   "display_name": "Python 3",
   "language": "python",
   "name": "python3"
  },
  "language_info": {
   "codemirror_mode": {
    "name": "ipython",
    "version": 2
   },
   "file_extension": ".py",
   "mimetype": "text/x-python",
   "name": "python",
   "nbconvert_exporter": "python",
   "pygments_lexer": "ipython2",
   "version": "2.7.6"
  }
 },
 "nbformat": 4,
 "nbformat_minor": 5
}
